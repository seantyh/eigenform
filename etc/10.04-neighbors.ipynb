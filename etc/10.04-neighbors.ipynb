{
 "cells": [
  {
   "cell_type": "code",
   "execution_count": 1,
   "metadata": {},
   "outputs": [],
   "source": [
    "%load_ext autoreload\n",
    "%autoreload 2"
   ]
  },
  {
   "cell_type": "code",
   "execution_count": 2,
   "metadata": {},
   "outputs": [],
   "source": [
    "from import_pkg import eigenform"
   ]
  },
  {
   "cell_type": "code",
   "execution_count": 3,
   "metadata": {},
   "outputs": [],
   "source": [
    "import pickle\n",
    "import numpy as np\n",
    "from itertools import chain\n",
    "from matplotlib import pyplot as plt"
   ]
  },
  {
   "cell_type": "code",
   "execution_count": 4,
   "metadata": {},
   "outputs": [],
   "source": [
    "norm_space_path = eigenform.get_data_dir()/\"norm/norm_space.pkl\"\n",
    "with norm_space_path.open(\"rb\") as fin:\n",
    "    nspace = pickle.load(fin)"
   ]
  },
  {
   "cell_type": "code",
   "execution_count": 5,
   "metadata": {},
   "outputs": [
    {
     "data": {
      "text/plain": [
       "array([-0.31632876, -0.30573005, -0.30328065, ...,  0.4580546 ,\n",
       "        0.55150162,  1.        ])"
      ]
     },
     "execution_count": 5,
     "metadata": {},
     "output_type": "execute_result"
    }
   ],
   "source": [
    "np.sort(nspace.cv_dist[nspace.stoi[\"我\"], :])"
   ]
  },
  {
   "cell_type": "code",
   "execution_count": 6,
   "metadata": {},
   "outputs": [
    {
     "data": {
      "text/plain": [
       "array([-0.31296543, -0.3122605 , -0.2981898 , ...,  0.46128171,\n",
       "        0.51710898,  1.        ])"
      ]
     },
     "execution_count": 6,
     "metadata": {},
     "output_type": "execute_result"
    }
   ],
   "source": [
    "np.sort(nspace.cv_dist[nspace.stoi[\"流\"], :])"
   ]
  },
  {
   "cell_type": "code",
   "execution_count": 7,
   "metadata": {},
   "outputs": [
    {
     "data": {
      "text/plain": [
       "Text(0.5, 1.0, 'Distribution of cosine similarities among characters')"
      ]
     },
     "execution_count": 7,
     "metadata": {},
     "output_type": "execute_result"
    },
    {
     "data": {
      "image/png": "[encoded data removed]",
      "text/plain": [
       "<Figure size 432x288 with 1 Axes>"
      ]
     },
     "metadata": {
      "needs_background": "light"
     },
     "output_type": "display_data"
    }
   ],
   "source": [
    "plt.hist(nspace.cv_dist.flatten(), bins=20)\n",
    "plt.title(\"Distribution of cosine similarities among characters\")"
   ]
  },
  {
   "cell_type": "code",
   "execution_count": 8,
   "metadata": {},
   "outputs": [
    {
     "data": {
      "text/plain": [
       "array([0.04516171, 0.07112439, 0.09911196, 0.13223787, 0.17909843,\n",
       "       0.21922939, 0.25591836, 0.3028489 , 0.33945755])"
      ]
     },
     "execution_count": 8,
     "metadata": {},
     "output_type": "execute_result"
    }
   ],
   "source": [
    "np.quantile(nspace.cv_dist.flatten(), [0.5,0.6,0.7,0.8,0.9, 0.95, 0.975, 0.99, 0.995])"
   ]
  },
  {
   "cell_type": "code",
   "execution_count": 9,
   "metadata": {},
   "outputs": [
    {
     "name": "stdout",
     "output_type": "stream",
     "text": [
      "mean of neigh_dist:  32.334354418747125\n"
     ]
    },
    {
     "data": {
      "text/plain": [
       "(array([ 882., 2740., 1624.,  774.,  303.,  125.,   58.,   17.,    3.,\n",
       "           3.]),\n",
       " array([  3.,  17.,  31.,  45.,  59.,  73.,  87., 101., 115., 129., 143.]),\n",
       " <a list of 10 Patch objects>)"
      ]
     },
     "execution_count": 9,
     "metadata": {},
     "output_type": "execute_result"
    },
    {
     "data": {
      "image/png": "[encoded data removed]",
      "text/plain": [
       "<Figure size 432x288 with 1 Axes>"
      ]
     },
     "metadata": {
      "needs_background": "light"
     },
     "output_type": "display_data"
    }
   ],
   "source": [
    "neigh_dist = (nspace.cv_dist>0.34).sum(1)\n",
    "print(\"mean of neigh_dist: \", neigh_dist.mean())\n",
    "plt.hist(neigh_dist)"
   ]
  },
  {
   "cell_type": "code",
   "execution_count": 10,
   "metadata": {},
   "outputs": [
    {
     "data": {
      "text/plain": [
       "32.64500000000003"
      ]
     },
     "execution_count": 10,
     "metadata": {},
     "output_type": "execute_result"
    }
   ],
   "source": [
    "len(nspace.stoi)*(1-0.995)"
   ]
  },
  {
   "cell_type": "code",
   "execution_count": 11,
   "metadata": {},
   "outputs": [],
   "source": [
    "w2_space_path = eigenform.get_data_dir()/\"norm/word2_space.pkl\"\n",
    "with w2_space_path.open(\"rb\") as fin:\n",
    "    w2_space = pickle.load(fin)"
   ]
  },
  {
   "cell_type": "code",
   "execution_count": 12,
   "metadata": {},
   "outputs": [
    {
     "name": "stdout",
     "output_type": "stream",
     "text": [
      "[0.17909843 0.21922939 0.25591836 0.3028489  0.33945755 0.43788174]\n",
      "98.70500000000008\n"
     ]
    }
   ],
   "source": [
    "w2_dists = w2_space.cv_dist.flatten()\n",
    "print(np.quantile(w2_dists, [0.9, 0.95, 0.975, 0.99, 0.995, 0.999]))\n",
    "print(len(w2_space.stoi)*(1-0.995))"
   ]
  },
  {
   "cell_type": "code",
   "execution_count": 13,
   "metadata": {},
   "outputs": [
    {
     "name": "stdout",
     "output_type": "stream",
     "text": [
      "mean of neigh_dist:  55.487614609188995\n"
     ]
    }
   ],
   "source": [
    "neigh_dist = (w2_space.cv_dist>0.28).sum(1)\n",
    "print(\"mean of neigh_dist: \", neigh_dist.mean())\n",
    "plt.hist(niegh_dist)"
   ]
  },
  {
   "cell_type": "code",
   "execution_count": 14,
   "metadata": {},
   "outputs": [
    {
     "data": {
      "text/plain": [
       "['蜻蜓', '蜿蜒', '情況', '情勢', '蟋蟀', '高舉', '請辭', '黨籍', '情形', '楓葉']"
      ]
     },
     "execution_count": 14,
     "metadata": {},
     "output_type": "execute_result"
    }
   ],
   "source": [
    "## good example\n",
    "w2_space.most_similar(\"蜻蜓\", 10)"
   ]
  },
  {
   "cell_type": "code",
   "execution_count": 19,
   "metadata": {},
   "outputs": [
    {
     "data": {
      "text/plain": [
       "0.7884373057276988"
      ]
     },
     "execution_count": 19,
     "metadata": {},
     "output_type": "execute_result"
    }
   ],
   "source": [
    "nw = \"全練\"\n",
    "nw_vec = np.concatenate([nspace.get_vector(nw[0]), nspace.get_vector(nw[1])], axis=0)\n",
    "w2_space.neighbors_sim_vector(nw_vec).mean()"
   ]
  },
  {
   "cell_type": "code",
   "execution_count": 36,
   "metadata": {},
   "outputs": [
    {
     "data": {
      "text/plain": [
       "['情形',\n",
       " '情歌',\n",
       " '情理',\n",
       " '社群',\n",
       " '情愛',\n",
       " '情欲',\n",
       " '情況',\n",
       " '情趣',\n",
       " '成群',\n",
       " '情緒',\n",
       " '情橋',\n",
       " '情結',\n",
       " '情調',\n",
       " '情勢',\n",
       " '情境',\n",
       " '情態',\n",
       " '魚群',\n",
       " '情景',\n",
       " '人群',\n",
       " '情願',\n",
       " '情操',\n",
       " '族群',\n",
       " '組群',\n",
       " '情侶',\n",
       " '情事',\n",
       " '情愫',\n",
       " '情急',\n",
       " '情誼',\n",
       " '情懷',\n",
       " '情慾',\n",
       " '羊群',\n",
       " '情婦',\n",
       " '情意',\n",
       " '情報',\n",
       " '情人',\n",
       " '猜疑',\n",
       " '情書',\n",
       " '情節',\n",
       " '情治',\n",
       " '情感',\n",
       " '情色',\n",
       " '贈與',\n",
       " '拮据',\n",
       " '精美',\n",
       " '清廷',\n",
       " '猜想',\n",
       " '蜻蜓',\n",
       " '揮舞',\n",
       " '損傷',\n",
       " '精華',\n",
       " '請到',\n",
       " '精準',\n",
       " '撞到',\n",
       " '狂野',\n",
       " '授與',\n",
       " '績優',\n",
       " '精髓',\n",
       " '揮別',\n",
       " '精銳',\n",
       " '請辭',\n",
       " '精心',\n",
       " '精細',\n",
       " '清晨',\n",
       " '隨從',\n",
       " '精闢',\n",
       " '憤慨',\n",
       " '鄉野',\n",
       " '清華',\n",
       " '猜忌',\n",
       " '積極',\n",
       " '推翻',\n",
       " '清理',\n",
       " '拼命',\n",
       " '揮動',\n",
       " '構件',\n",
       " '忙著',\n",
       " '電器',\n",
       " '精彩',\n",
       " '積分',\n",
       " '獼猴',\n",
       " '精於',\n",
       " '攀爬',\n",
       " '積存',\n",
       " '恬靜',\n",
       " '精良',\n",
       " '慣例',\n",
       " '悄悄',\n",
       " '撫卹',\n",
       " '蓮霧',\n",
       " '增訂',\n",
       " '曠野',\n",
       " '扭傷',\n",
       " '精神',\n",
       " '機器',\n",
       " '憤怒',\n",
       " '請領',\n",
       " '田野',\n",
       " '擴散',\n",
       " '猜測',\n",
       " '精品',\n",
       " '精液',\n",
       " '清脆',\n",
       " '捧場',\n",
       " '請託',\n",
       " '槓桿',\n",
       " '精確',\n",
       " '撞球',\n",
       " '竹雕',\n",
       " '橫向',\n",
       " '格外',\n",
       " '舞鶴',\n",
       " '精靈',\n",
       " '清償',\n",
       " '講到',\n",
       " '構建',\n",
       " '精巧',\n",
       " '講習',\n",
       " '精簡',\n",
       " '悄然',\n",
       " '講師',\n",
       " '把握',\n",
       " '懷疑',\n",
       " '靖國',\n",
       " '視野',\n",
       " '精蟲',\n",
       " '懊惱',\n",
       " '清楚',\n",
       " '挨打',\n",
       " '清洗',\n",
       " '指向',\n",
       " '權利',\n",
       " '晴天',\n",
       " '武器',\n",
       " '磁器']"
      ]
     },
     "execution_count": 36,
     "metadata": {},
     "output_type": "execute_result"
    }
   ],
   "source": []
  },
  {
   "cell_type": "code",
   "execution_count": null,
   "metadata": {},
   "outputs": [],
   "source": []
  }
 ],
 "metadata": {
  "kernelspec": {
   "display_name": "Python 3",
   "language": "python",
   "name": "python3"
  },
  "language_info": {
   "codemirror_mode": {
    "name": "ipython",
    "version": 3
   },
   "file_extension": ".py",
   "mimetype": "text/x-python",
   "name": "python",
   "nbconvert_exporter": "python",
   "pygments_lexer": "ipython3",
   "version": "3.8.2"
  }
 },
 "nbformat": 4,
 "nbformat_minor": 4
}
