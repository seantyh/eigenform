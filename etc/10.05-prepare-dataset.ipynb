{
 "cells": [
  {
   "cell_type": "code",
   "execution_count": 1,
   "metadata": {},
   "outputs": [],
   "source": [
    "%load_ext autoreload\n",
    "%autoreload 2"
   ]
  },
  {
   "cell_type": "code",
   "execution_count": 2,
   "metadata": {},
   "outputs": [],
   "source": [
    "from import_pkg import eigenform"
   ]
  },
  {
   "cell_type": "code",
   "execution_count": 31,
   "metadata": {},
   "outputs": [],
   "source": [
    "import pickle\n",
    "import numpy as np\n",
    "from itertools import chain\n",
    "from matplotlib import pyplot as plt\n",
    "from tqdm.auto import tqdm"
   ]
  },
  {
   "cell_type": "code",
   "execution_count": 4,
   "metadata": {},
   "outputs": [],
   "source": [
    "norm_space_path = eigenform.get_data_dir()/\"norm/norm_space.pkl\"\n",
    "with norm_space_path.open(\"rb\") as fin:\n",
    "    nspace = pickle.load(fin)"
   ]
  },
  {
   "cell_type": "code",
   "execution_count": 10,
   "metadata": {},
   "outputs": [],
   "source": [
    "w2_space_path = eigenform.get_data_dir()/\"norm/word2_space.pkl\"\n",
    "with w2_space_path.open(\"rb\") as fin:\n",
    "    w2_space = pickle.load(fin)    \n",
    "    w2_space.cv_dist = None"
   ]
  },
  {
   "cell_type": "code",
   "execution_count": 6,
   "metadata": {},
   "outputs": [
    {
     "name": "stdout",
     "output_type": "stream",
     "text": [
      "[0.14136364 0.17130423 0.19940572 0.23809126 0.27557146 0.53427616]\n",
      "98.70500000000008\n"
     ]
    }
   ],
   "source": [
    "w2_dists = w2_space.cv_dist.flatten()\n",
    "print(np.quantile(w2_dists, [0.9, 0.95, 0.975, 0.99, 0.995, 0.999]))\n",
    "print(len(w2_space.stoi)*(1-0.995))"
   ]
  },
  {
   "cell_type": "code",
   "execution_count": 12,
   "metadata": {},
   "outputs": [],
   "source": [
    "import pandas as pd\n",
    "non_word_ldt = pd.read_excel(eigenform.get_data_dir()/\"Tse-2017-Chinese-lexicon-project.xlsx\", sheet_name=\"Nonword\")"
   ]
  },
  {
   "cell_type": "code",
   "execution_count": 19,
   "metadata": {},
   "outputs": [],
   "source": [
    "with (eigenform.get_data_dir()/\"asbc5_characters.pkl\").open(\"rb\") as fin:\n",
    "    cfreq = pickle.load(fin)    "
   ]
  },
  {
   "cell_type": "code",
   "execution_count": 24,
   "metadata": {},
   "outputs": [
    {
     "data": {
      "text/plain": [
       "['胡', '朗', '朋', '挈', '掌', '朝', '旂', '朔', '罈']"
      ]
     },
     "execution_count": 24,
     "metadata": {},
     "output_type": "execute_result"
    }
   ],
   "source": [
    "nspace.neighbors(\"胡\", threshold=0.34)"
   ]
  },
  {
   "cell_type": "code",
   "execution_count": 29,
   "metadata": {},
   "outputs": [
    {
     "data": {
      "text/plain": [
       "True"
      ]
     },
     "execution_count": 29,
     "metadata": {},
     "output_type": "execute_result"
    }
   ],
   "source": [
    "(non_word_ldt.Nonword_Trad.str.len() == 2).all()"
   ]
  },
  {
   "cell_type": "code",
   "execution_count": 39,
   "metadata": {},
   "outputs": [
    {
     "data": {
      "application/vnd.jupyter.widget-view+json": {
       "model_id": "ce552fd30ff941c3a97cbb704ffd0353",
       "version_major": 2,
       "version_minor": 0
      },
      "text/plain": [
       "HBox(children=(FloatProgress(value=0.0, max=25085.0), HTML(value='')))"
      ]
     },
     "metadata": {},
     "output_type": "display_data"
    },
    {
     "name": "stdout",
     "output_type": "stream",
     "text": [
      "\n"
     ]
    }
   ],
   "source": [
    "c1_freqs = []\n",
    "c2_freqs = []\n",
    "c1_neigh_counts = []\n",
    "c2_neigh_counts = []\n",
    "nw_neigh_counts = []\n",
    "for nw in tqdm(non_word_ldt.Nonword_Trad.tolist()):    \n",
    "    c1 = nw[0]; c2 = nw[1]\n",
    "    try:\n",
    "        c1_freq = cfreq.get(c1, 1)\n",
    "        c2_freq = cfreq.get(c2, 1)\n",
    "        c1_nNeigh = len(nspace.neighbors(c1, threshold=0.34))\n",
    "        c2_nNeigh = len(nspace.neighbors(c2, threshold=0.34))\n",
    "        nw_vec = np.concatenate([nspace.get_vector(nw[0]), nspace.get_vector(nw[1])], axis=0)    \n",
    "        nw_nNeigh = len(w2_space.neighbors_vector(nw_vec, 0.28))\n",
    "    except:\n",
    "        c1_freq = None; c2_freq = None;\n",
    "        c1_nNeigh = None; c2_nNeigh = None;\n",
    "        nw_nNeigh = None;\n",
    "    c1_freqs.append(c1_freq)\n",
    "    c2_freqs.append(c2_freq)\n",
    "    c1_neigh_counts.append(c1_nNeigh)\n",
    "    c2_neigh_counts.append(c2_nNeigh)\n",
    "    nw_neigh_counts.append(nw_nNeigh)\n",
    "    if len(c1_freqs)> 10:break"
   ]
  },
  {
   "cell_type": "code",
   "execution_count": 42,
   "metadata": {},
   "outputs": [],
   "source": [
    "space_nw = non_word_ldt.iloc[:len(c1_freqs), :].assign(\n",
    "    c1_logfreq=np.log(c1_freqs), c2_logfreq = np.log(c2_freqs),\n",
    "    c1_nNeigh=c1_neigh_counts, c2_nNeigh=c2_neigh_counts,\n",
    "    nw_nNeigh=nw_neigh_counts\n",
    ")\n",
    "space_nw.dropna(inplace=True)"
   ]
  },
  {
   "cell_type": "code",
   "execution_count": 43,
   "metadata": {},
   "outputs": [
    {
     "data": {
      "text/html": [
       "<div>\n",
       "<style scoped>\n",
       "    .dataframe tbody tr th:only-of-type {\n",
       "        vertical-align: middle;\n",
       "    }\n",
       "\n",
       "    .dataframe tbody tr th {\n",
       "        vertical-align: top;\n",
       "    }\n",
       "\n",
       "    .dataframe thead th {\n",
       "        text-align: right;\n",
       "    }\n",
       "</style>\n",
       "<table border=\"1\" class=\"dataframe\">\n",
       "  <thead>\n",
       "    <tr style=\"text-align: right;\">\n",
       "      <th></th>\n",
       "      <th>Nonword_Trad</th>\n",
       "      <th>Nonword_Sim</th>\n",
       "      <th>Ntrials</th>\n",
       "      <th>Acc</th>\n",
       "      <th>RT</th>\n",
       "      <th>RT-SE</th>\n",
       "      <th>RT-SD</th>\n",
       "      <th>zRT</th>\n",
       "      <th>c1_freq</th>\n",
       "      <th>c2_freq</th>\n",
       "      <th>c1_nNeigh</th>\n",
       "      <th>c2_nNeigh</th>\n",
       "      <th>nw_nNeigh</th>\n",
       "    </tr>\n",
       "  </thead>\n",
       "  <tbody>\n",
       "    <tr>\n",
       "      <th>0</th>\n",
       "      <td>一化</td>\n",
       "      <td>一化</td>\n",
       "      <td>30</td>\n",
       "      <td>0.94</td>\n",
       "      <td>687.27</td>\n",
       "      <td>34.82</td>\n",
       "      <td>190.70</td>\n",
       "      <td>-0.18</td>\n",
       "      <td>12.243359</td>\n",
       "      <td>10.074327</td>\n",
       "      <td>8</td>\n",
       "      <td>24</td>\n",
       "      <td>485</td>\n",
       "    </tr>\n",
       "    <tr>\n",
       "      <th>1</th>\n",
       "      <td>一尤</td>\n",
       "      <td>一尤</td>\n",
       "      <td>30</td>\n",
       "      <td>0.91</td>\n",
       "      <td>677.83</td>\n",
       "      <td>29.39</td>\n",
       "      <td>160.96</td>\n",
       "      <td>-0.16</td>\n",
       "      <td>12.243359</td>\n",
       "      <td>8.091933</td>\n",
       "      <td>8</td>\n",
       "      <td>27</td>\n",
       "      <td>624</td>\n",
       "    </tr>\n",
       "    <tr>\n",
       "      <th>2</th>\n",
       "      <td>一氏</td>\n",
       "      <td>一氏</td>\n",
       "      <td>28</td>\n",
       "      <td>0.85</td>\n",
       "      <td>702.71</td>\n",
       "      <td>24.07</td>\n",
       "      <td>127.34</td>\n",
       "      <td>-0.05</td>\n",
       "      <td>12.243359</td>\n",
       "      <td>6.960348</td>\n",
       "      <td>8</td>\n",
       "      <td>24</td>\n",
       "      <td>461</td>\n",
       "    </tr>\n",
       "    <tr>\n",
       "      <th>3</th>\n",
       "      <td>一西</td>\n",
       "      <td>一西</td>\n",
       "      <td>33</td>\n",
       "      <td>1.00</td>\n",
       "      <td>617.42</td>\n",
       "      <td>31.78</td>\n",
       "      <td>182.57</td>\n",
       "      <td>-0.64</td>\n",
       "      <td>12.243359</td>\n",
       "      <td>9.457825</td>\n",
       "      <td>8</td>\n",
       "      <td>12</td>\n",
       "      <td>414</td>\n",
       "    </tr>\n",
       "    <tr>\n",
       "      <th>4</th>\n",
       "      <td>一似</td>\n",
       "      <td>一似</td>\n",
       "      <td>29</td>\n",
       "      <td>0.88</td>\n",
       "      <td>726.38</td>\n",
       "      <td>33.23</td>\n",
       "      <td>178.96</td>\n",
       "      <td>-0.05</td>\n",
       "      <td>12.243359</td>\n",
       "      <td>8.704502</td>\n",
       "      <td>8</td>\n",
       "      <td>6</td>\n",
       "      <td>287</td>\n",
       "    </tr>\n",
       "  </tbody>\n",
       "</table>\n",
       "</div>"
      ],
      "text/plain": [
       "  Nonword_Trad Nonword_Sim  Ntrials   Acc      RT  RT-SE   RT-SD   zRT  \\\n",
       "0           一化          一化       30  0.94  687.27  34.82  190.70 -0.18   \n",
       "1           一尤          一尤       30  0.91  677.83  29.39  160.96 -0.16   \n",
       "2           一氏          一氏       28  0.85  702.71  24.07  127.34 -0.05   \n",
       "3           一西          一西       33  1.00  617.42  31.78  182.57 -0.64   \n",
       "4           一似          一似       29  0.88  726.38  33.23  178.96 -0.05   \n",
       "\n",
       "     c1_freq    c2_freq  c1_nNeigh  c2_nNeigh  nw_nNeigh  \n",
       "0  12.243359  10.074327          8         24        485  \n",
       "1  12.243359   8.091933          8         27        624  \n",
       "2  12.243359   6.960348          8         24        461  \n",
       "3  12.243359   9.457825          8         12        414  \n",
       "4  12.243359   8.704502          8          6        287  "
      ]
     },
     "execution_count": 43,
     "metadata": {},
     "output_type": "execute_result"
    }
   ],
   "source": [
    "space_nw.head()"
   ]
  },
  {
   "cell_type": "code",
   "execution_count": 44,
   "metadata": {},
   "outputs": [],
   "source": [
    "space_nw.to_csv(eigenform.get_data_dir()/\"norm/norm_space_ldt.csv\")"
   ]
  },
  {
   "cell_type": "code",
   "execution_count": 46,
   "metadata": {},
   "outputs": [
    {
     "data": {
      "text/plain": [
       "array([12.2433588, 12.2433588, 12.2433588, 12.2433588, 12.2433588,\n",
       "       12.2433588, 12.2433588, 12.2433588, 12.2433588, 12.2433588,\n",
       "       12.2433588])"
      ]
     },
     "execution_count": 46,
     "metadata": {},
     "output_type": "execute_result"
    }
   ],
   "source": [
    "np.log(c1_freqs)"
   ]
  },
  {
   "cell_type": "code",
   "execution_count": 48,
   "metadata": {},
   "outputs": [
    {
     "ename": "TypeError",
     "evalue": "loop of ufunc does not support argument 0 of type int which has no callable log method",
     "output_type": "error",
     "traceback": [
      "\u001b[1;31m---------------------------------------------------------------------------\u001b[0m",
      "\u001b[1;31mAttributeError\u001b[0m                            Traceback (most recent call last)",
      "\u001b[1;31mAttributeError\u001b[0m: 'int' object has no attribute 'log'",
      "\nThe above exception was the direct cause of the following exception:\n",
      "\u001b[1;31mTypeError\u001b[0m                                 Traceback (most recent call last)",
      "\u001b[1;32m<ipython-input-48-624509587a35>\u001b[0m in \u001b[0;36m<module>\u001b[1;34m\u001b[0m\n\u001b[1;32m----> 1\u001b[1;33m \u001b[0mnp\u001b[0m\u001b[1;33m.\u001b[0m\u001b[0mlog\u001b[0m\u001b[1;33m(\u001b[0m\u001b[1;33m[\u001b[0m\u001b[1;36m1\u001b[0m\u001b[1;33m,\u001b[0m\u001b[1;32mNone\u001b[0m\u001b[1;33m]\u001b[0m\u001b[1;33m)\u001b[0m\u001b[1;33m\u001b[0m\u001b[1;33m\u001b[0m\u001b[0m\n\u001b[0m",
      "\u001b[1;31mTypeError\u001b[0m: loop of ufunc does not support argument 0 of type int which has no callable log method"
     ]
    }
   ],
   "source": [
    "np.log([1,None])"
   ]
  },
  {
   "cell_type": "code",
   "execution_count": null,
   "metadata": {},
   "outputs": [],
   "source": []
  }
 ],
 "metadata": {
  "kernelspec": {
   "display_name": "Python 3",
   "language": "python",
   "name": "python3"
  },
  "language_info": {
   "codemirror_mode": {
    "name": "ipython",
    "version": 3
   },
   "file_extension": ".py",
   "mimetype": "text/x-python",
   "name": "python",
   "nbconvert_exporter": "python",
   "pygments_lexer": "ipython3",
   "version": "3.8.2"
  }
 },
 "nbformat": 4,
 "nbformat_minor": 4
}
